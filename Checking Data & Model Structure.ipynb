{
 "cells": [
  {
   "cell_type": "markdown",
   "id": "68d8c24e-ddcb-4f74-a8f7-47547f8bb63f",
   "metadata": {},
   "source": [
    "# Data & Model Controls"
   ]
  },
  {
   "cell_type": "markdown",
   "id": "411ab34d-89fa-49a6-a4b8-2efc40ae431f",
   "metadata": {},
   "source": [
    "This notebook aims to discover the dataset structures and model details."
   ]
  },
  {
   "cell_type": "code",
   "execution_count": null,
   "id": "de6faeb6-c23a-462c-8903-88c1e62b2d16",
   "metadata": {},
   "outputs": [],
   "source": [
    "!pip install -r requirements.txt"
   ]
  },
  {
   "cell_type": "markdown",
   "id": "c5de57e4-f549-46fb-86a6-a41022597623",
   "metadata": {},
   "source": [
    "## Imports & I/O"
   ]
  },
  {
   "cell_type": "code",
   "execution_count": 1,
   "id": "cdc90a87-adce-4800-8bed-6e40a5e0e42a",
   "metadata": {},
   "outputs": [],
   "source": [
    "data_path = 'data'\n",
    "\n",
    "import numpy as np\n",
    "import pandas as pd\n",
    "import torch\n",
    "import torchvision\n",
    "import random\n",
    "\n",
    "from torch.utils.tensorboard import SummaryWriter\n",
    "from sklearn.metrics import log_loss, roc_auc_score\n",
    "from sklearn.preprocessing import LabelEncoder, MinMaxScaler\n",
    "from tensorflow.keras.preprocessing.sequence import pad_sequences\n",
    "from sklearn.model_selection import train_test_split\n",
    "from preprocessing.inputs import SparseFeat, DenseFeat, VarLenSparseFeat\n",
    "from model.IntTower import IntTower\n",
    "from deepctr_torch.callbacks import EarlyStopping, ModelCheckpoint"
   ]
  },
  {
   "cell_type": "markdown",
   "id": "77e14173-bd82-4e9d-8240-915d876d3887",
   "metadata": {},
   "source": [
    "## Checking Datasets"
   ]
  },
  {
   "cell_type": "markdown",
   "id": "c038a0b1-f027-4a22-8238-5e1e22c58b80",
   "metadata": {},
   "source": [
    "#### Movielens Dataset\n",
    "\n",
    "Initial dataset is as below."
   ]
  },
  {
   "cell_type": "code",
   "execution_count": 2,
   "id": "dd0cd060-737e-4cb5-9c14-f3fb68bd7f28",
   "metadata": {},
   "outputs": [],
   "source": [
    "file_name = 'movielens.txt'\n",
    "lens_df = pd.read_csv(join(data_path, file_name))"
   ]
  },
  {
   "cell_type": "code",
   "execution_count": 3,
   "id": "4c53f1e1-f59c-4a31-b41f-86f9dbc70b81",
   "metadata": {},
   "outputs": [
    {
     "data": {
      "text/html": [
       "<div>\n",
       "<style scoped>\n",
       "    .dataframe tbody tr th:only-of-type {\n",
       "        vertical-align: middle;\n",
       "    }\n",
       "\n",
       "    .dataframe tbody tr th {\n",
       "        vertical-align: top;\n",
       "    }\n",
       "\n",
       "    .dataframe thead th {\n",
       "        text-align: right;\n",
       "    }\n",
       "</style>\n",
       "<table border=\"1\" class=\"dataframe\">\n",
       "  <thead>\n",
       "    <tr style=\"text-align: right;\">\n",
       "      <th></th>\n",
       "      <th>user_id</th>\n",
       "      <th>movie_id</th>\n",
       "      <th>rating</th>\n",
       "      <th>timestamp</th>\n",
       "      <th>gender</th>\n",
       "      <th>age</th>\n",
       "      <th>occupation</th>\n",
       "      <th>zipcode</th>\n",
       "      <th>title</th>\n",
       "      <th>genres</th>\n",
       "    </tr>\n",
       "  </thead>\n",
       "  <tbody>\n",
       "    <tr>\n",
       "      <th>0</th>\n",
       "      <td>1</td>\n",
       "      <td>1193</td>\n",
       "      <td>5</td>\n",
       "      <td>978300760</td>\n",
       "      <td>F</td>\n",
       "      <td>1</td>\n",
       "      <td>10</td>\n",
       "      <td>48067</td>\n",
       "      <td>One Flew Over the Cuckoo's Nest (1975)</td>\n",
       "      <td>Drama</td>\n",
       "    </tr>\n",
       "    <tr>\n",
       "      <th>1</th>\n",
       "      <td>1</td>\n",
       "      <td>661</td>\n",
       "      <td>3</td>\n",
       "      <td>978302109</td>\n",
       "      <td>F</td>\n",
       "      <td>1</td>\n",
       "      <td>10</td>\n",
       "      <td>48067</td>\n",
       "      <td>James and the Giant Peach (1996)</td>\n",
       "      <td>Animation|Children's|Musical</td>\n",
       "    </tr>\n",
       "    <tr>\n",
       "      <th>2</th>\n",
       "      <td>1</td>\n",
       "      <td>914</td>\n",
       "      <td>3</td>\n",
       "      <td>978301968</td>\n",
       "      <td>F</td>\n",
       "      <td>1</td>\n",
       "      <td>10</td>\n",
       "      <td>48067</td>\n",
       "      <td>My Fair Lady (1964)</td>\n",
       "      <td>Musical|Romance</td>\n",
       "    </tr>\n",
       "    <tr>\n",
       "      <th>3</th>\n",
       "      <td>1</td>\n",
       "      <td>3408</td>\n",
       "      <td>4</td>\n",
       "      <td>978300275</td>\n",
       "      <td>F</td>\n",
       "      <td>1</td>\n",
       "      <td>10</td>\n",
       "      <td>48067</td>\n",
       "      <td>Erin Brockovich (2000)</td>\n",
       "      <td>Drama</td>\n",
       "    </tr>\n",
       "    <tr>\n",
       "      <th>4</th>\n",
       "      <td>1</td>\n",
       "      <td>2355</td>\n",
       "      <td>5</td>\n",
       "      <td>978824291</td>\n",
       "      <td>F</td>\n",
       "      <td>1</td>\n",
       "      <td>10</td>\n",
       "      <td>48067</td>\n",
       "      <td>Bug's Life, A (1998)</td>\n",
       "      <td>Animation|Children's|Comedy</td>\n",
       "    </tr>\n",
       "  </tbody>\n",
       "</table>\n",
       "</div>"
      ],
      "text/plain": [
       "   user_id  movie_id  rating  timestamp gender  age  occupation zipcode  \\\n",
       "0        1      1193       5  978300760      F    1          10   48067   \n",
       "1        1       661       3  978302109      F    1          10   48067   \n",
       "2        1       914       3  978301968      F    1          10   48067   \n",
       "3        1      3408       4  978300275      F    1          10   48067   \n",
       "4        1      2355       5  978824291      F    1          10   48067   \n",
       "\n",
       "                                    title                        genres  \n",
       "0  One Flew Over the Cuckoo's Nest (1975)                         Drama  \n",
       "1        James and the Giant Peach (1996)  Animation|Children's|Musical  \n",
       "2                     My Fair Lady (1964)               Musical|Romance  \n",
       "3                  Erin Brockovich (2000)                         Drama  \n",
       "4                    Bug's Life, A (1998)   Animation|Children's|Comedy  "
      ]
     },
     "execution_count": 3,
     "metadata": {},
     "output_type": "execute_result"
    }
   ],
   "source": [
    "lens_df.head()"
   ]
  },
  {
   "cell_type": "code",
   "execution_count": 4,
   "id": "a3ae2c9a-3968-4526-b3fa-f1bac0c9ce98",
   "metadata": {},
   "outputs": [
    {
     "data": {
      "text/plain": [
       "(1000209, 10)"
      ]
     },
     "execution_count": 4,
     "metadata": {},
     "output_type": "execute_result"
    }
   ],
   "source": [
    "lens_df.shape"
   ]
  },
  {
   "cell_type": "markdown",
   "id": "8c8f0a66-f1f5-4c27-8a78-194536fae9b3",
   "metadata": {},
   "source": [
    "Processed datasets are displayed below."
   ]
  },
  {
   "cell_type": "code",
   "execution_count": 5,
   "id": "27acdab4-b21c-4012-aed3-e57ab56707f5",
   "metadata": {},
   "outputs": [],
   "source": [
    "import preprocessing.dataset_preprocess as dp \n",
    "\n",
    "train, test, data = dp.data_process(join(data_path, file_name))\n",
    "\n",
    "train = dp.get_user_feature(train)\n",
    "train = dp.get_item_feature(train)\n",
    "\n",
    "test = dp.get_user_feature(test)\n",
    "test = dp.get_item_feature(test)"
   ]
  },
  {
   "cell_type": "code",
   "execution_count": 10,
   "id": "5f635521-fa89-41f4-9b1d-f0b904723dfb",
   "metadata": {},
   "outputs": [
    {
     "data": {
      "text/html": [
       "<div>\n",
       "<style scoped>\n",
       "    .dataframe tbody tr th:only-of-type {\n",
       "        vertical-align: middle;\n",
       "    }\n",
       "\n",
       "    .dataframe tbody tr th {\n",
       "        vertical-align: top;\n",
       "    }\n",
       "\n",
       "    .dataframe thead th {\n",
       "        text-align: right;\n",
       "    }\n",
       "</style>\n",
       "<table border=\"1\" class=\"dataframe\">\n",
       "  <thead>\n",
       "    <tr style=\"text-align: right;\">\n",
       "      <th></th>\n",
       "      <th>movie_id</th>\n",
       "      <th>item_mean_rating</th>\n",
       "      <th>user_id</th>\n",
       "      <th>user_mean_rating</th>\n",
       "      <th>user_hist</th>\n",
       "      <th>rating</th>\n",
       "      <th>timestamp</th>\n",
       "      <th>gender</th>\n",
       "      <th>age</th>\n",
       "      <th>occupation</th>\n",
       "      <th>zipcode</th>\n",
       "      <th>title</th>\n",
       "      <th>genres</th>\n",
       "    </tr>\n",
       "  </thead>\n",
       "  <tbody>\n",
       "    <tr>\n",
       "      <th>0</th>\n",
       "      <td>1</td>\n",
       "      <td>0.955915</td>\n",
       "      <td>1</td>\n",
       "      <td>1.000000</td>\n",
       "      <td>783|1907|1287|919|1029|608|2804|1962|260|3105|...</td>\n",
       "      <td>1</td>\n",
       "      <td>978824268</td>\n",
       "      <td>F</td>\n",
       "      <td>1</td>\n",
       "      <td>10</td>\n",
       "      <td>48067</td>\n",
       "      <td>Toy Story (1995)</td>\n",
       "      <td>Animation|Children's|Comedy</td>\n",
       "    </tr>\n",
       "    <tr>\n",
       "      <th>1</th>\n",
       "      <td>1</td>\n",
       "      <td>0.955915</td>\n",
       "      <td>6</td>\n",
       "      <td>1.000000</td>\n",
       "      <td>2396|2006|1188|588|569|383|3536|1566|1947|1688...</td>\n",
       "      <td>1</td>\n",
       "      <td>978237008</td>\n",
       "      <td>F</td>\n",
       "      <td>50</td>\n",
       "      <td>9</td>\n",
       "      <td>55117</td>\n",
       "      <td>Toy Story (1995)</td>\n",
       "      <td>Animation|Children's|Comedy</td>\n",
       "    </tr>\n",
       "    <tr>\n",
       "      <th>2</th>\n",
       "      <td>1</td>\n",
       "      <td>0.955915</td>\n",
       "      <td>8</td>\n",
       "      <td>0.918919</td>\n",
       "      <td>3256|151|1274|16|2442|2291|3265|3186|17|527|65...</td>\n",
       "      <td>1</td>\n",
       "      <td>978233496</td>\n",
       "      <td>M</td>\n",
       "      <td>25</td>\n",
       "      <td>12</td>\n",
       "      <td>11413</td>\n",
       "      <td>Toy Story (1995)</td>\n",
       "      <td>Animation|Children's|Comedy</td>\n",
       "    </tr>\n",
       "    <tr>\n",
       "      <th>3</th>\n",
       "      <td>1</td>\n",
       "      <td>0.955915</td>\n",
       "      <td>9</td>\n",
       "      <td>0.904762</td>\n",
       "      <td>1682|2324|1923|2294|480|1921|1307|527|349|47|5...</td>\n",
       "      <td>1</td>\n",
       "      <td>978225952</td>\n",
       "      <td>M</td>\n",
       "      <td>25</td>\n",
       "      <td>17</td>\n",
       "      <td>61614</td>\n",
       "      <td>Toy Story (1995)</td>\n",
       "      <td>Animation|Children's|Comedy</td>\n",
       "    </tr>\n",
       "    <tr>\n",
       "      <th>4</th>\n",
       "      <td>1</td>\n",
       "      <td>0.955915</td>\n",
       "      <td>10</td>\n",
       "      <td>0.960317</td>\n",
       "      <td>2398|2|351|1372|1573|2423|1784|2496|2072|1654|...</td>\n",
       "      <td>1</td>\n",
       "      <td>978226474</td>\n",
       "      <td>F</td>\n",
       "      <td>35</td>\n",
       "      <td>1</td>\n",
       "      <td>95370</td>\n",
       "      <td>Toy Story (1995)</td>\n",
       "      <td>Animation|Children's|Comedy</td>\n",
       "    </tr>\n",
       "  </tbody>\n",
       "</table>\n",
       "</div>"
      ],
      "text/plain": [
       "   movie_id  item_mean_rating  user_id  user_mean_rating  \\\n",
       "0         1          0.955915        1          1.000000   \n",
       "1         1          0.955915        6          1.000000   \n",
       "2         1          0.955915        8          0.918919   \n",
       "3         1          0.955915        9          0.904762   \n",
       "4         1          0.955915       10          0.960317   \n",
       "\n",
       "                                           user_hist  rating  timestamp  \\\n",
       "0  783|1907|1287|919|1029|608|2804|1962|260|3105|...       1  978824268   \n",
       "1  2396|2006|1188|588|569|383|3536|1566|1947|1688...       1  978237008   \n",
       "2  3256|151|1274|16|2442|2291|3265|3186|17|527|65...       1  978233496   \n",
       "3  1682|2324|1923|2294|480|1921|1307|527|349|47|5...       1  978225952   \n",
       "4  2398|2|351|1372|1573|2423|1784|2496|2072|1654|...       1  978226474   \n",
       "\n",
       "  gender  age  occupation zipcode             title  \\\n",
       "0      F    1          10   48067  Toy Story (1995)   \n",
       "1      F   50           9   55117  Toy Story (1995)   \n",
       "2      M   25          12   11413  Toy Story (1995)   \n",
       "3      M   25          17   61614  Toy Story (1995)   \n",
       "4      F   35           1   95370  Toy Story (1995)   \n",
       "\n",
       "                        genres  \n",
       "0  Animation|Children's|Comedy  \n",
       "1  Animation|Children's|Comedy  \n",
       "2  Animation|Children's|Comedy  \n",
       "3  Animation|Children's|Comedy  \n",
       "4  Animation|Children's|Comedy  "
      ]
     },
     "execution_count": 10,
     "metadata": {},
     "output_type": "execute_result"
    }
   ],
   "source": [
    "train.head()"
   ]
  },
  {
   "cell_type": "code",
   "execution_count": null,
   "id": "2a22f0b0-ab6e-45e4-859e-301f9bd9149f",
   "metadata": {},
   "outputs": [],
   "source": []
  }
 ],
 "metadata": {
  "kernelspec": {
   "display_name": "Python 3 (ipykernel)",
   "language": "python",
   "name": "python3"
  },
  "language_info": {
   "codemirror_mode": {
    "name": "ipython",
    "version": 3
   },
   "file_extension": ".py",
   "mimetype": "text/x-python",
   "name": "python",
   "nbconvert_exporter": "python",
   "pygments_lexer": "ipython3",
   "version": "3.9.7"
  }
 },
 "nbformat": 4,
 "nbformat_minor": 5
}
